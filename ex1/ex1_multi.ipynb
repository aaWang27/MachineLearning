{
 "cells": [
  {
   "cell_type": "code",
   "execution_count": 178,
   "metadata": {},
   "outputs": [],
   "source": [
    "import pandas as pd\n",
    "import numpy as np\n",
    "import matplotlib.pyplot as plt\n",
    "%matplotlib inline"
   ]
  },
  {
   "cell_type": "code",
   "execution_count": 179,
   "metadata": {},
   "outputs": [
    {
     "data": {
      "text/html": [
       "<div>\n",
       "<style scoped>\n",
       "    .dataframe tbody tr th:only-of-type {\n",
       "        vertical-align: middle;\n",
       "    }\n",
       "\n",
       "    .dataframe tbody tr th {\n",
       "        vertical-align: top;\n",
       "    }\n",
       "\n",
       "    .dataframe thead th {\n",
       "        text-align: right;\n",
       "    }\n",
       "</style>\n",
       "<table border=\"1\" class=\"dataframe\">\n",
       "  <thead>\n",
       "    <tr style=\"text-align: right;\">\n",
       "      <th></th>\n",
       "      <th>0</th>\n",
       "      <th>1</th>\n",
       "      <th>2</th>\n",
       "    </tr>\n",
       "  </thead>\n",
       "  <tbody>\n",
       "    <tr>\n",
       "      <th>0</th>\n",
       "      <td>2104</td>\n",
       "      <td>3</td>\n",
       "      <td>399900</td>\n",
       "    </tr>\n",
       "    <tr>\n",
       "      <th>1</th>\n",
       "      <td>1600</td>\n",
       "      <td>3</td>\n",
       "      <td>329900</td>\n",
       "    </tr>\n",
       "    <tr>\n",
       "      <th>2</th>\n",
       "      <td>2400</td>\n",
       "      <td>3</td>\n",
       "      <td>369000</td>\n",
       "    </tr>\n",
       "    <tr>\n",
       "      <th>3</th>\n",
       "      <td>1416</td>\n",
       "      <td>2</td>\n",
       "      <td>232000</td>\n",
       "    </tr>\n",
       "    <tr>\n",
       "      <th>4</th>\n",
       "      <td>3000</td>\n",
       "      <td>4</td>\n",
       "      <td>539900</td>\n",
       "    </tr>\n",
       "  </tbody>\n",
       "</table>\n",
       "</div>"
      ],
      "text/plain": [
       "      0  1       2\n",
       "0  2104  3  399900\n",
       "1  1600  3  329900\n",
       "2  2400  3  369000\n",
       "3  1416  2  232000\n",
       "4  3000  4  539900"
      ]
     },
     "execution_count": 179,
     "metadata": {},
     "output_type": "execute_result"
    }
   ],
   "source": [
    "df1 = pd.read_csv('ex1data2.txt', names=range(3))\n",
    "df1.head()"
   ]
  },
  {
   "cell_type": "code",
   "execution_count": 180,
   "metadata": {},
   "outputs": [
    {
     "name": "stdout",
     "output_type": "stream",
     "text": [
      "(47, 1)\n"
     ]
    }
   ],
   "source": [
    "y = np.matrix(df1[2])\n",
    "y = np.reshape(y, (47, 1))\n",
    "print(y.shape)"
   ]
  },
  {
   "cell_type": "code",
   "execution_count": 181,
   "metadata": {},
   "outputs": [
    {
     "data": {
      "text/plain": [
       "(47, 2)"
      ]
     },
     "execution_count": 181,
     "metadata": {},
     "output_type": "execute_result"
    }
   ],
   "source": [
    "X = np.matrix([df1[0], df1[1]])\n",
    "X = X.transpose()\n",
    "X.shape"
   ]
  },
  {
   "cell_type": "code",
   "execution_count": 182,
   "metadata": {},
   "outputs": [
    {
     "data": {
      "text/plain": [
       "matrix([[2104,    3],\n",
       "        [1600,    3],\n",
       "        [2400,    3],\n",
       "        [1416,    2],\n",
       "        [3000,    4],\n",
       "        [1985,    4],\n",
       "        [1534,    3],\n",
       "        [1427,    3],\n",
       "        [1380,    3],\n",
       "        [1494,    3],\n",
       "        [1940,    4],\n",
       "        [2000,    3],\n",
       "        [1890,    3],\n",
       "        [4478,    5],\n",
       "        [1268,    3],\n",
       "        [2300,    4],\n",
       "        [1320,    2],\n",
       "        [1236,    3],\n",
       "        [2609,    4],\n",
       "        [3031,    4],\n",
       "        [1767,    3],\n",
       "        [1888,    2],\n",
       "        [1604,    3],\n",
       "        [1962,    4],\n",
       "        [3890,    3],\n",
       "        [1100,    3],\n",
       "        [1458,    3],\n",
       "        [2526,    3],\n",
       "        [2200,    3],\n",
       "        [2637,    3],\n",
       "        [1839,    2],\n",
       "        [1000,    1],\n",
       "        [2040,    4],\n",
       "        [3137,    3],\n",
       "        [1811,    4],\n",
       "        [1437,    3],\n",
       "        [1239,    3],\n",
       "        [2132,    4],\n",
       "        [4215,    4],\n",
       "        [2162,    4],\n",
       "        [1664,    2],\n",
       "        [2238,    3],\n",
       "        [2567,    4],\n",
       "        [1200,    3],\n",
       "        [ 852,    2],\n",
       "        [1852,    4],\n",
       "        [1203,    3]], dtype=int64)"
      ]
     },
     "execution_count": 182,
     "metadata": {},
     "output_type": "execute_result"
    }
   ],
   "source": [
    "X"
   ]
  },
  {
   "cell_type": "code",
   "execution_count": 183,
   "metadata": {},
   "outputs": [
    {
     "data": {
      "text/plain": [
       "47"
      ]
     },
     "execution_count": 183,
     "metadata": {},
     "output_type": "execute_result"
    }
   ],
   "source": [
    "m = len(y)\n",
    "m"
   ]
  },
  {
   "cell_type": "code",
   "execution_count": 184,
   "metadata": {},
   "outputs": [
    {
     "name": "stdout",
     "output_type": "stream",
     "text": [
      "First 10 examples from the dataset: \n",
      "\n",
      "[[1600    3]\n",
      " [2400    3]\n",
      " [1416    2]\n",
      " [3000    4]\n",
      " [1985    4]\n",
      " [1534    3]\n",
      " [1427    3]\n",
      " [1380    3]\n",
      " [1494    3]] [[329900]\n",
      " [369000]\n",
      " [232000]\n",
      " [539900]\n",
      " [299900]\n",
      " [314900]\n",
      " [198999]\n",
      " [212000]\n",
      " [242500]]\n"
     ]
    }
   ],
   "source": [
    "print(\"First 10 examples from the dataset: \\n\")\n",
    "print(X[1:10], y[1:10])"
   ]
  },
  {
   "cell_type": "code",
   "execution_count": 185,
   "metadata": {},
   "outputs": [],
   "source": [
    "def featureNormalize(X):\n",
    "    X_norm = X\n",
    "    mu = np.zeros((1, X.shape[1]))\n",
    "    sigma = np.zeros((1, X.shape[1]))\n",
    "\n",
    "    mu = np.mean(X, axis=0)\n",
    "\n",
    "    sigma = np.std(X, axis=0)\n",
    "\n",
    "    X_norm = np.subtract(X_norm, mu)\n",
    "\n",
    "    if(sigma.all() != 0): \n",
    "        X_norm = np.divide(X_norm, sigma)\n",
    "\n",
    "    return X_norm, mu, sigma"
   ]
  },
  {
   "cell_type": "code",
   "execution_count": 186,
   "metadata": {},
   "outputs": [],
   "source": [
    "X, mu, sigma = featureNormalize(X)"
   ]
  },
  {
   "cell_type": "code",
   "execution_count": 187,
   "metadata": {},
   "outputs": [
    {
     "data": {
      "text/plain": [
       "(47, 2)"
      ]
     },
     "execution_count": 187,
     "metadata": {},
     "output_type": "execute_result"
    }
   ],
   "source": [
    "X.shape"
   ]
  },
  {
   "cell_type": "code",
   "execution_count": 188,
   "metadata": {},
   "outputs": [
    {
     "data": {
      "text/plain": [
       "(47, 1)"
      ]
     },
     "execution_count": 188,
     "metadata": {},
     "output_type": "execute_result"
    }
   ],
   "source": [
    "intercept = np.ones([m, 1])\n",
    "intercept.shape"
   ]
  },
  {
   "cell_type": "code",
   "execution_count": 189,
   "metadata": {},
   "outputs": [
    {
     "data": {
      "text/plain": [
       "(47, 3)"
      ]
     },
     "execution_count": 189,
     "metadata": {},
     "output_type": "execute_result"
    }
   ],
   "source": [
    "X = np.append(intercept, X, axis=1)\n",
    "X.shape"
   ]
  },
  {
   "cell_type": "code",
   "execution_count": 190,
   "metadata": {},
   "outputs": [
    {
     "data": {
      "text/plain": [
       "(47, 3)"
      ]
     },
     "execution_count": 190,
     "metadata": {},
     "output_type": "execute_result"
    }
   ],
   "source": [
    "X.shape"
   ]
  },
  {
   "cell_type": "code",
   "execution_count": 191,
   "metadata": {},
   "outputs": [
    {
     "data": {
      "text/plain": [
       "array([[0.],\n",
       "       [0.],\n",
       "       [0.]])"
      ]
     },
     "execution_count": 191,
     "metadata": {},
     "output_type": "execute_result"
    }
   ],
   "source": [
    "alpha = 0.01\n",
    "num_iters = 400\n",
    "theta = np.zeros([3, 1])\n",
    "theta"
   ]
  },
  {
   "cell_type": "code",
   "execution_count": 192,
   "metadata": {},
   "outputs": [],
   "source": [
    "def computeCostMulti(X, y, theta):\n",
    "    m = len(y)\n",
    "    J = 0\n",
    "    h = X*theta\n",
    "    error = np.subtract(h, y)\n",
    "    J = 1/(2*m) * np.sum(np.power(error, 2))\n",
    "    return J"
   ]
  },
  {
   "cell_type": "code",
   "execution_count": 193,
   "metadata": {},
   "outputs": [
    {
     "data": {
      "text/plain": [
       "65591548106.45744"
      ]
     },
     "execution_count": 193,
     "metadata": {},
     "output_type": "execute_result"
    }
   ],
   "source": [
    "J = computeCostMulti(X, y, theta)\n",
    "J"
   ]
  },
  {
   "cell_type": "code",
   "execution_count": 194,
   "metadata": {},
   "outputs": [],
   "source": [
    "def gradientDescentMulti(X, y, theta, alpha, num_iters):\n",
    "    m = len(y)\n",
    "    J_history = np.zeros([num_iters, 1])\n",
    "    for iter in range(num_iters):\n",
    "        h = X*theta\n",
    "        error = np.subtract(h, y)\n",
    "        theta_change = alpha/m * (X.transpose() * error)\n",
    "        theta = theta - theta_change\n",
    "        J_history[iter] = computeCostMulti(X, y, theta)\n",
    "    \n",
    "    return theta, J_history\n"
   ]
  },
  {
   "cell_type": "code",
   "execution_count": 201,
   "metadata": {},
   "outputs": [
    {
     "data": {
      "text/plain": [
       "matrix([[340412.65957447],\n",
       "        [109447.79646964],\n",
       "        [ -6578.35485416]])"
      ]
     },
     "execution_count": 201,
     "metadata": {},
     "output_type": "execute_result"
    }
   ],
   "source": [
    "theta, J_history = gradientDescentMulti(X, y, theta, alpha, 1500)\n",
    "theta"
   ]
  },
  {
   "cell_type": "code",
   "execution_count": 202,
   "metadata": {},
   "outputs": [
    {
     "name": "stdout",
     "output_type": "stream",
     "text": [
      "For a 1650 sqft, 3 br house, we predict a price of 340412.659574\n"
     ]
    }
   ],
   "source": [
    "test1 = np.matrix([1650, 3])\n",
    "test1 = featureNormalize(test1)[0]\n",
    "test1 = np.append(np.ones([1, 1]), test1, axis=1)\n",
    "predict1 = test1 * theta\n",
    "print(\"For a 1650 sqft, 3 br house, we predict a price of %f\" % (predict1))"
   ]
  },
  {
   "cell_type": "code",
   "execution_count": 197,
   "metadata": {},
   "outputs": [],
   "source": [
    "# df2 = pd.read_csv('ex1data2.txt', names=range(3))\n",
    "# df2.head()\n",
    "# y = np.matrix(df1[2])\n",
    "# y = np.reshape(y, (47, 1))\n",
    "# m = len(y)\n",
    "# X = np.matrix([df1[0], df1[1]])\n",
    "# X = X.transpose()\n",
    "# X.shape"
   ]
  },
  {
   "cell_type": "code",
   "execution_count": 203,
   "metadata": {},
   "outputs": [],
   "source": [
    "def normalEqn(X, y):\n",
    "    theta = np.zeros([X.shape[1], 1])\n",
    "    inverse = np.linalg.inv(X.transpose() * X)\n",
    "    theta = inverse * X.transpose() * y\n",
    "    return theta\n",
    "    "
   ]
  },
  {
   "cell_type": "code",
   "execution_count": 204,
   "metadata": {},
   "outputs": [
    {
     "data": {
      "text/plain": [
       "matrix([[340412.65957447],\n",
       "        [109447.79646964],\n",
       "        [ -6578.35485416]])"
      ]
     },
     "execution_count": 204,
     "metadata": {},
     "output_type": "execute_result"
    }
   ],
   "source": [
    "theta = normalEqn(X, y)\n",
    "theta"
   ]
  },
  {
   "cell_type": "code",
   "execution_count": 205,
   "metadata": {},
   "outputs": [
    {
     "name": "stdout",
     "output_type": "stream",
     "text": [
      "For a 1650 sqft, 3 br house, we predict a price of 340412.659574\n"
     ]
    }
   ],
   "source": [
    "test2 = np.matrix([1650, 3])\n",
    "test2 = featureNormalize(test2)[0]\n",
    "test2 = np.append(np.ones([1, 1]), test2, axis=1)\n",
    "predict2 = test2 * theta\n",
    "print(\"For a 1650 sqft, 3 br house, we predict a price of %f\" % (predict2))"
   ]
  }
 ],
 "metadata": {
  "interpreter": {
   "hash": "3ebfc241eaa27290d2441b7c6346806e6edfc0e58b07a1ca327ab8461150f6eb"
  },
  "kernelspec": {
   "display_name": "Python 3.8.8 64-bit ('base': conda)",
   "language": "python",
   "name": "python3"
  },
  "language_info": {
   "codemirror_mode": {
    "name": "ipython",
    "version": 3
   },
   "file_extension": ".py",
   "mimetype": "text/x-python",
   "name": "python",
   "nbconvert_exporter": "python",
   "pygments_lexer": "ipython3",
   "version": "3.8.8"
  },
  "orig_nbformat": 4
 },
 "nbformat": 4,
 "nbformat_minor": 2
}
