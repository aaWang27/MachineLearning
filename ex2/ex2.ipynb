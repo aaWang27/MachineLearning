{
 "cells": [
  {
   "cell_type": "code",
   "execution_count": 2,
   "metadata": {},
   "outputs": [],
   "source": [
    "import pandas as pd\n",
    "import numpy as np\n",
    "import math\n",
    "import matplotlib.pyplot as plt\n",
    "%matplotlib inline"
   ]
  },
  {
   "cell_type": "code",
   "execution_count": 41,
   "metadata": {},
   "outputs": [
    {
     "data": {
      "text/html": [
       "<div>\n",
       "<style scoped>\n",
       "    .dataframe tbody tr th:only-of-type {\n",
       "        vertical-align: middle;\n",
       "    }\n",
       "\n",
       "    .dataframe tbody tr th {\n",
       "        vertical-align: top;\n",
       "    }\n",
       "\n",
       "    .dataframe thead th {\n",
       "        text-align: right;\n",
       "    }\n",
       "</style>\n",
       "<table border=\"1\" class=\"dataframe\">\n",
       "  <thead>\n",
       "    <tr style=\"text-align: right;\">\n",
       "      <th></th>\n",
       "      <th>Exam1Score</th>\n",
       "      <th>Exam2Score</th>\n",
       "      <th>Admitted</th>\n",
       "    </tr>\n",
       "  </thead>\n",
       "  <tbody>\n",
       "    <tr>\n",
       "      <th>0</th>\n",
       "      <td>34.623660</td>\n",
       "      <td>78.024693</td>\n",
       "      <td>0</td>\n",
       "    </tr>\n",
       "    <tr>\n",
       "      <th>1</th>\n",
       "      <td>30.286711</td>\n",
       "      <td>43.894998</td>\n",
       "      <td>0</td>\n",
       "    </tr>\n",
       "    <tr>\n",
       "      <th>2</th>\n",
       "      <td>35.847409</td>\n",
       "      <td>72.902198</td>\n",
       "      <td>0</td>\n",
       "    </tr>\n",
       "    <tr>\n",
       "      <th>3</th>\n",
       "      <td>60.182599</td>\n",
       "      <td>86.308552</td>\n",
       "      <td>1</td>\n",
       "    </tr>\n",
       "    <tr>\n",
       "      <th>4</th>\n",
       "      <td>79.032736</td>\n",
       "      <td>75.344376</td>\n",
       "      <td>1</td>\n",
       "    </tr>\n",
       "  </tbody>\n",
       "</table>\n",
       "</div>"
      ],
      "text/plain": [
       "   Exam1Score  Exam2Score  Admitted\n",
       "0   34.623660   78.024693         0\n",
       "1   30.286711   43.894998         0\n",
       "2   35.847409   72.902198         0\n",
       "3   60.182599   86.308552         1\n",
       "4   79.032736   75.344376         1"
      ]
     },
     "execution_count": 41,
     "metadata": {},
     "output_type": "execute_result"
    }
   ],
   "source": [
    "df = pd.read_csv('ex2data1.txt', names=range(3)])\n",
    "df.head()"
   ]
  },
  {
   "cell_type": "code",
   "execution_count": 1,
   "metadata": {},
   "outputs": [
    {
     "ename": "NameError",
     "evalue": "name 'np' is not defined",
     "output_type": "error",
     "traceback": [
      "\u001b[1;31m---------------------------------------------------------------------------\u001b[0m",
      "\u001b[1;31mNameError\u001b[0m                                 Traceback (most recent call last)",
      "\u001b[1;32m<ipython-input-1-e354818bd9e6>\u001b[0m in \u001b[0;36m<module>\u001b[1;34m\u001b[0m\n\u001b[1;32m----> 1\u001b[1;33m \u001b[0mX\u001b[0m \u001b[1;33m=\u001b[0m \u001b[0mnp\u001b[0m\u001b[1;33m.\u001b[0m\u001b[0mmatrix\u001b[0m\u001b[1;33m(\u001b[0m\u001b[1;33m[\u001b[0m\u001b[0mdf\u001b[0m\u001b[1;33m[\u001b[0m\u001b[1;36m0\u001b[0m\u001b[1;33m]\u001b[0m\u001b[1;33m,\u001b[0m \u001b[0mdf\u001b[0m\u001b[1;33m[\u001b[0m\u001b[1;36m1\u001b[0m\u001b[1;33m]\u001b[0m\u001b[1;33m]\u001b[0m\u001b[1;33m)\u001b[0m\u001b[1;33m\u001b[0m\u001b[1;33m\u001b[0m\u001b[0m\n\u001b[0m\u001b[0;32m      2\u001b[0m \u001b[0my\u001b[0m \u001b[1;33m=\u001b[0m \u001b[0mnp\u001b[0m\u001b[1;33m.\u001b[0m\u001b[0mmatrix\u001b[0m\u001b[1;33m(\u001b[0m\u001b[0mdf\u001b[0m\u001b[1;33m[\u001b[0m\u001b[1;36m2\u001b[0m\u001b[1;33m]\u001b[0m\u001b[1;33m)\u001b[0m\u001b[1;33m\u001b[0m\u001b[1;33m\u001b[0m\u001b[0m\n",
      "\u001b[1;31mNameError\u001b[0m: name 'np' is not defined"
     ]
    }
   ],
   "source": [
    "X = np.matrix([df[0], df[1]])\n",
    "y = np.matrix(df[2])"
   ]
  },
  {
   "cell_type": "code",
   "execution_count": 43,
   "metadata": {},
   "outputs": [],
   "source": [
    "def plotData(X, y):\n",
    "    figure = plt.Figure\n",
    "    pos = y.index[y==1]\n",
    "    neg = y.index[y==0]\n",
    "    plt.scatter(X.iloc[pos, 0], X.iloc[pos, 1], marker='+', label='Admitted')\n",
    "    plt.scatter(X.iloc[neg, 0], X.iloc[neg, 1], marker='o', color='yellow', label='Not Admitted')\n",
    "    plt.xlabel('Exam 1 Score')\n",
    "    plt.ylabel('Exam 2 Score')\n",
    "    plt.legend()"
   ]
  },
  {
   "cell_type": "code",
   "execution_count": 44,
   "metadata": {},
   "outputs": [],
   "source": [
    "def sigmoid(z) :\n",
    "    return 1/(1 + np.exp(-z.astype(float)))"
   ]
  },
  {
   "cell_type": "code",
   "execution_count": 45,
   "metadata": {},
   "outputs": [],
   "source": [
    "def costFunction(theta, X, y):\n",
    "    m, n = X.shape\n",
    "    theta = np.reshape(theta, (len(theta), 1))\n",
    "    y = np.reshape(y, (m, 1))\n",
    "    term1 = np.log(sigmoid(X*theta))\n",
    "    term2 = np.log(1-sigmoid(X*theta))\n",
    "    term1 = term1.reshape((m, 1))\n",
    "    term2 = term2.reshape((m, 1))\n",
    "    term1 = term1.transpose()\n",
    "    term2 = term2.transpose()\n",
    "    J = 0\n",
    "    J = 1/m * np.sum(term1*-y - term2 * (1-y))\n",
    "    return J"
   ]
  },
  {
   "cell_type": "code",
   "execution_count": 46,
   "metadata": {},
   "outputs": [],
   "source": [
    "def gradientFunction(theta, X, y):\n",
    "    m = X.shape[0]\n",
    "    theta = np.reshape(theta, (len(theta), 1))\n",
    "    grad = np.dot(1/m, np.transpose(X)*(sigmoid(X*theta)-y))\n",
    "    return grad"
   ]
  },
  {
   "cell_type": "code",
   "execution_count": 47,
   "metadata": {},
   "outputs": [
    {
     "data": {
      "image/png": "[encoded data removed]",
      "text/plain": [
       "<Figure size 432x288 with 1 Axes>"
      ]
     },
     "metadata": {
      "needs_background": "light"
     },
     "output_type": "display_data"
    }
   ],
   "source": [
    "plotData(X, y)"
   ]
  },
  {
   "cell_type": "code",
   "execution_count": 48,
   "metadata": {},
   "outputs": [
    {
     "name": "stdout",
     "output_type": "stream",
     "text": [
      "[0.99330715 0.99752738 0.99908895]\n"
     ]
    }
   ],
   "source": [
    "print(sigmoid(np.array([5, 6, 7])))"
   ]
  },
  {
   "cell_type": "code",
   "execution_count": 49,
   "metadata": {},
   "outputs": [
    {
     "name": "stdout",
     "output_type": "stream",
     "text": [
      "100 2\n"
     ]
    }
   ],
   "source": [
    "m, n = X.shape\n",
    "print(m, n)"
   ]
  },
  {
   "cell_type": "code",
   "execution_count": 50,
   "metadata": {},
   "outputs": [
    {
     "data": {
      "text/html": [
       "<div>\n",
       "<style scoped>\n",
       "    .dataframe tbody tr th:only-of-type {\n",
       "        vertical-align: middle;\n",
       "    }\n",
       "\n",
       "    .dataframe tbody tr th {\n",
       "        vertical-align: top;\n",
       "    }\n",
       "\n",
       "    .dataframe thead th {\n",
       "        text-align: right;\n",
       "    }\n",
       "</style>\n",
       "<table border=\"1\" class=\"dataframe\">\n",
       "  <thead>\n",
       "    <tr style=\"text-align: right;\">\n",
       "      <th></th>\n",
       "      <th>intercept</th>\n",
       "      <th>Exam1Score</th>\n",
       "      <th>Exam2Score</th>\n",
       "    </tr>\n",
       "  </thead>\n",
       "  <tbody>\n",
       "    <tr>\n",
       "      <th>0</th>\n",
       "      <td>1.0</td>\n",
       "      <td>34.623660</td>\n",
       "      <td>78.024693</td>\n",
       "    </tr>\n",
       "    <tr>\n",
       "      <th>1</th>\n",
       "      <td>1.0</td>\n",
       "      <td>30.286711</td>\n",
       "      <td>43.894998</td>\n",
       "    </tr>\n",
       "    <tr>\n",
       "      <th>2</th>\n",
       "      <td>1.0</td>\n",
       "      <td>35.847409</td>\n",
       "      <td>72.902198</td>\n",
       "    </tr>\n",
       "    <tr>\n",
       "      <th>3</th>\n",
       "      <td>1.0</td>\n",
       "      <td>60.182599</td>\n",
       "      <td>86.308552</td>\n",
       "    </tr>\n",
       "    <tr>\n",
       "      <th>4</th>\n",
       "      <td>1.0</td>\n",
       "      <td>79.032736</td>\n",
       "      <td>75.344376</td>\n",
       "    </tr>\n",
       "  </tbody>\n",
       "</table>\n",
       "</div>"
      ],
      "text/plain": [
       "   intercept  Exam1Score  Exam2Score\n",
       "0        1.0   34.623660   78.024693\n",
       "1        1.0   30.286711   43.894998\n",
       "2        1.0   35.847409   72.902198\n",
       "3        1.0   60.182599   86.308552\n",
       "4        1.0   79.032736   75.344376"
      ]
     },
     "execution_count": 50,
     "metadata": {},
     "output_type": "execute_result"
    }
   ],
   "source": [
    "intercept = pd.DataFrame(np.ones(m), columns=['intercept'])\n",
    "X = intercept.merge(X, how='left', left_index=True, right_index=True)\n",
    "X.head()"
   ]
  },
  {
   "cell_type": "code",
   "execution_count": 51,
   "metadata": {},
   "outputs": [
    {
     "data": {
      "text/plain": [
       "array([0, 0, 0], dtype=object)"
      ]
     },
     "execution_count": 51,
     "metadata": {},
     "output_type": "execute_result"
    }
   ],
   "source": [
    "initial_theta = np.zeros(n+1, dtype=object)\n",
    "initial_theta"
   ]
  },
  {
   "cell_type": "code",
   "execution_count": 52,
   "metadata": {},
   "outputs": [
    {
     "data": {
      "text/plain": [
       "matrix([[1.0, 34.62365962451697, 78.0246928153624],\n",
       "        [1.0, 30.28671076822607, 43.89499752400101],\n",
       "        [1.0, 35.84740876993872, 72.90219802708364],\n",
       "        [1.0, 60.18259938620976, 86.30855209546826],\n",
       "        [1.0, 79.0327360507101, 75.3443764369103],\n",
       "        [1.0, 45.08327747668339, 56.3163717815305],\n",
       "        [1.0, 61.10666453684766, 96.51142588489624],\n",
       "        [1.0, 75.02474556738889, 46.55401354116538],\n",
       "        [1.0, 76.09878670226257, 87.42056971926803],\n",
       "        [1.0, 84.43281996120035, 43.53339331072109],\n",
       "        [1.0, 95.86155507093572, 38.22527805795094],\n",
       "        [1.0, 75.01365838958247, 30.60326323428011],\n",
       "        [1.0, 82.30705337399482, 76.48196330235604],\n",
       "        [1.0, 69.36458875970939, 97.71869196188608],\n",
       "        [1.0, 39.53833914367223, 76.03681085115882],\n",
       "        [1.0, 53.9710521485623, 89.20735013750205],\n",
       "        [1.0, 69.07014406283025, 52.74046973016765],\n",
       "        [1.0, 67.94685547711617, 46.67857410673128],\n",
       "        [1.0, 70.66150955499435, 92.92713789364832],\n",
       "        [1.0, 76.97878372747498, 47.57596364975532],\n",
       "        [1.0, 67.37202754570876, 42.83843832029179],\n",
       "        [1.0, 89.6767757507208, 65.79936592745237],\n",
       "        [1.0, 50.534788289883, 48.85581152764205],\n",
       "        [1.0, 34.21206097786789, 44.20952859866288],\n",
       "        [1.0, 77.9240914545704, 68.9723599933059],\n",
       "        [1.0, 62.27101367004632, 69.95445795447587],\n",
       "        [1.0, 80.1901807509566, 44.82162893218353],\n",
       "        [1.0, 93.114388797442, 38.80067033713209],\n",
       "        [1.0, 61.83020602312595, 50.25610789244621],\n",
       "        [1.0, 38.78580379679423, 64.99568095539578],\n",
       "        [1.0, 61.379289447425, 72.80788731317097],\n",
       "        [1.0, 85.40451939411645, 57.05198397627122],\n",
       "        [1.0, 52.10797973193984, 63.12762376881715],\n",
       "        [1.0, 52.04540476831827, 69.43286012045222],\n",
       "        [1.0, 40.23689373545111, 71.16774802184875],\n",
       "        [1.0, 54.63510555424817, 52.21388588061123],\n",
       "        [1.0, 33.91550010906887, 98.86943574220612],\n",
       "        [1.0, 64.17698887494485, 80.90806058670817],\n",
       "        [1.0, 74.78925295941542, 41.57341522824434],\n",
       "        [1.0, 34.1836400264419, 75.2377203360134],\n",
       "        [1.0, 83.90239366249155, 56.30804621605327],\n",
       "        [1.0, 51.54772026906181, 46.85629026349976],\n",
       "        [1.0, 94.44336776917852, 65.56892160559052],\n",
       "        [1.0, 82.36875375713919, 40.61825515970618],\n",
       "        [1.0, 51.04775177128865, 45.82270145776001],\n",
       "        [1.0, 62.22267576120188, 52.06099194836679],\n",
       "        [1.0, 77.19303492601364, 70.45820000180959],\n",
       "        [1.0, 97.77159928000232, 86.7278223300282],\n",
       "        [1.0, 62.07306379667647, 96.76882412413984],\n",
       "        [1.0, 91.56497449807442, 88.696292545466],\n",
       "        [1.0, 79.94481794066932, 74.16311935043758],\n",
       "        [1.0, 99.2725269292572, 60.99903099844988],\n",
       "        [1.0, 90.54671411399852, 43.39060180650027],\n",
       "        [1.0, 34.52451385320009, 60.39634245837173],\n",
       "        [1.0, 50.2864961189907, 49.80453881323059],\n",
       "        [1.0, 49.58667721632031, 59.80895099453265],\n",
       "        [1.0, 97.64563396007767, 68.86157272420604],\n",
       "        [1.0, 32.57720016809309, 95.59854761387876],\n",
       "        [1.0, 74.24869136721598, 69.82457122657193],\n",
       "        [1.0, 71.7964620586338, 78.45356224515052],\n",
       "        [1.0, 75.3956114656803, 85.75993667331619],\n",
       "        [1.0, 35.28611281526193, 47.02051394723416],\n",
       "        [1.0, 56.25381749711624, 39.26147251058019],\n",
       "        [1.0, 30.05882244669796, 49.59297386723685],\n",
       "        [1.0, 44.66826172480893, 66.45008614558913],\n",
       "        [1.0, 66.56089447242954, 41.09209807936973],\n",
       "        [1.0, 40.45755098375164, 97.53518548909936],\n",
       "        [1.0, 49.07256321908844, 51.88321182073966],\n",
       "        [1.0, 80.27957401466998, 92.11606081344084],\n",
       "        [1.0, 66.74671856944039, 60.99139402740988],\n",
       "        [1.0, 32.72283304060323, 43.30717306430063],\n",
       "        [1.0, 64.0393204150601, 78.03168802018232],\n",
       "        [1.0, 72.34649422579923, 96.22759296761404],\n",
       "        [1.0, 60.45788573918959, 73.09499809758037],\n",
       "        [1.0, 58.84095621726802, 75.85844831279042],\n",
       "        [1.0, 99.82785779692128, 72.36925193383885],\n",
       "        [1.0, 47.26426910848174, 88.47586499559782],\n",
       "        [1.0, 50.45815980285988, 75.80985952982456],\n",
       "        [1.0, 60.45555629271532, 42.50840943572217],\n",
       "        [1.0, 82.22666157785568, 42.71987853716458],\n",
       "        [1.0, 88.9138964166533, 69.80378889835472],\n",
       "        [1.0, 94.83450672430196, 45.69430680250754],\n",
       "        [1.0, 67.31925746917527, 66.58935317747915],\n",
       "        [1.0, 57.23870631569862, 59.51428198012956],\n",
       "        [1.0, 80.36675600171273, 90.96014789746954],\n",
       "        [1.0, 68.46852178591112, 85.59430710452014],\n",
       "        [1.0, 42.0754545384731, 78.84478600148043],\n",
       "        [1.0, 75.47770200533905, 90.42453899753964],\n",
       "        [1.0, 78.63542434898018, 96.64742716885644],\n",
       "        [1.0, 52.34800398794107, 60.76950525602592],\n",
       "        [1.0, 94.09433112516793, 77.15910509073893],\n",
       "        [1.0, 90.44855097096364, 87.50879176484702],\n",
       "        [1.0, 55.48216114069585, 35.57070347228866],\n",
       "        [1.0, 74.49269241843041, 84.84513684930135],\n",
       "        [1.0, 89.84580670720979, 45.35828361091658],\n",
       "        [1.0, 83.48916274498238, 48.38028579728175],\n",
       "        [1.0, 42.2617008099817, 87.10385094025457],\n",
       "        [1.0, 99.31500880510394, 68.77540947206617],\n",
       "        [1.0, 55.34001756003703, 64.9319380069486],\n",
       "        [1.0, 74.77589300092767, 89.52981289513276]], dtype=object)"
      ]
     },
     "execution_count": 52,
     "metadata": {},
     "output_type": "execute_result"
    }
   ],
   "source": [
    "X = np.matrix(X, dtype=object)\n",
    "X"
   ]
  },
  {
   "cell_type": "code",
   "execution_count": 53,
   "metadata": {},
   "outputs": [
    {
     "data": {
      "text/plain": [
       "matrix([[0],\n",
       "        [0],\n",
       "        [0],\n",
       "        [1],\n",
       "        [1],\n",
       "        [0],\n",
       "        [1],\n",
       "        [1],\n",
       "        [1],\n",
       "        [1],\n",
       "        [0],\n",
       "        [0],\n",
       "        [1],\n",
       "        [1],\n",
       "        [0],\n",
       "        [1],\n",
       "        [1],\n",
       "        [0],\n",
       "        [1],\n",
       "        [1],\n",
       "        [0],\n",
       "        [1],\n",
       "        [0],\n",
       "        [0],\n",
       "        [1],\n",
       "        [1],\n",
       "        [1],\n",
       "        [0],\n",
       "        [0],\n",
       "        [0],\n",
       "        [1],\n",
       "        [1],\n",
       "        [0],\n",
       "        [1],\n",
       "        [0],\n",
       "        [0],\n",
       "        [0],\n",
       "        [1],\n",
       "        [0],\n",
       "        [0],\n",
       "        [1],\n",
       "        [0],\n",
       "        [1],\n",
       "        [0],\n",
       "        [0],\n",
       "        [0],\n",
       "        [1],\n",
       "        [1],\n",
       "        [1],\n",
       "        [1],\n",
       "        [1],\n",
       "        [1],\n",
       "        [1],\n",
       "        [0],\n",
       "        [0],\n",
       "        [0],\n",
       "        [1],\n",
       "        [0],\n",
       "        [1],\n",
       "        [1],\n",
       "        [1],\n",
       "        [0],\n",
       "        [0],\n",
       "        [0],\n",
       "        [0],\n",
       "        [0],\n",
       "        [1],\n",
       "        [0],\n",
       "        [1],\n",
       "        [1],\n",
       "        [0],\n",
       "        [1],\n",
       "        [1],\n",
       "        [1],\n",
       "        [1],\n",
       "        [1],\n",
       "        [1],\n",
       "        [1],\n",
       "        [0],\n",
       "        [0],\n",
       "        [1],\n",
       "        [1],\n",
       "        [1],\n",
       "        [1],\n",
       "        [1],\n",
       "        [1],\n",
       "        [0],\n",
       "        [1],\n",
       "        [1],\n",
       "        [0],\n",
       "        [1],\n",
       "        [1],\n",
       "        [0],\n",
       "        [1],\n",
       "        [1],\n",
       "        [1],\n",
       "        [1],\n",
       "        [1],\n",
       "        [1],\n",
       "        [1]], dtype=object)"
      ]
     },
     "execution_count": 53,
     "metadata": {},
     "output_type": "execute_result"
    }
   ],
   "source": [
    "y = np.matrix(y, dtype=object)\n",
    "y = np.transpose(y)\n",
    "y"
   ]
  },
  {
   "cell_type": "code",
   "execution_count": 54,
   "metadata": {},
   "outputs": [
    {
     "name": "stdout",
     "output_type": "stream",
     "text": [
      "Cost at initial theta (zeros): 0.693147\n",
      "Gradient:  [[-0.1]\n",
      " [-12.00921658929115]\n",
      " [-11.262842205513591]]\n"
     ]
    }
   ],
   "source": [
    "cost= costFunction(initial_theta, X, y)\n",
    "grad = gradientFunction(initial_theta, X, y)\n",
    "print('Cost at initial theta (zeros): %f' % cost)\n",
    "print('Gradient: ', grad)"
   ]
  },
  {
   "cell_type": "code",
   "execution_count": 55,
   "metadata": {},
   "outputs": [],
   "source": [
    "test_theta = np.array([-24, 0.2, 0.2])\n",
    "cost = costFunction(test_theta, X, y)\n",
    "grad = gradientFunction(initial_theta, X, y)"
   ]
  },
  {
   "cell_type": "code",
   "execution_count": 56,
   "metadata": {},
   "outputs": [
    {
     "name": "stdout",
     "output_type": "stream",
     "text": [
      "Cost at initial theta (zeros): 0.218330\n",
      "Gradient:  [[-0.1]\n",
      " [-12.00921658929115]\n",
      " [-11.262842205513591]]\n"
     ]
    }
   ],
   "source": [
    "print('Cost at initial theta (zeros): %f' % cost)\n",
    "print('Gradient: ', grad)"
   ]
  },
  {
   "cell_type": "code",
   "execution_count": 57,
   "metadata": {},
   "outputs": [
    {
     "ename": "TypeError",
     "evalue": "loop of ufunc does not support argument 0 of type float which has no callable sqrt method",
     "output_type": "error",
     "traceback": [
      "\u001b[1;31m---------------------------------------------------------------------------\u001b[0m",
      "\u001b[1;31mAttributeError\u001b[0m                            Traceback (most recent call last)",
      "\u001b[1;31mAttributeError\u001b[0m: 'float' object has no attribute 'sqrt'",
      "\nThe above exception was the direct cause of the following exception:\n",
      "\u001b[1;31mTypeError\u001b[0m                                 Traceback (most recent call last)",
      "\u001b[1;32m<ipython-input-57-67ee1e2b30a9>\u001b[0m in \u001b[0;36m<module>\u001b[1;34m\u001b[0m\n\u001b[0;32m      1\u001b[0m \u001b[1;32mimport\u001b[0m \u001b[0mscipy\u001b[0m\u001b[1;33m.\u001b[0m\u001b[0moptimize\u001b[0m \u001b[1;32mas\u001b[0m \u001b[0mop\u001b[0m\u001b[1;33m\u001b[0m\u001b[1;33m\u001b[0m\u001b[0m\n\u001b[1;32m----> 2\u001b[1;33m \u001b[0mopt\u001b[0m\u001b[1;33m,\u001b[0m \u001b[0mcost\u001b[0m \u001b[1;33m=\u001b[0m \u001b[0mop\u001b[0m\u001b[1;33m.\u001b[0m\u001b[0mfmin_ncg\u001b[0m\u001b[1;33m(\u001b[0m\u001b[0mf\u001b[0m\u001b[1;33m=\u001b[0m\u001b[0mcostFunction\u001b[0m\u001b[1;33m,\u001b[0m \u001b[0mx0\u001b[0m\u001b[1;33m=\u001b[0m\u001b[0minitial_theta\u001b[0m\u001b[1;33m,\u001b[0m \u001b[0mfprime\u001b[0m\u001b[1;33m=\u001b[0m\u001b[0mgradientFunction\u001b[0m\u001b[1;33m,\u001b[0m \u001b[0margs\u001b[0m\u001b[1;33m=\u001b[0m\u001b[1;33m(\u001b[0m\u001b[0mX\u001b[0m\u001b[1;33m,\u001b[0m \u001b[0my\u001b[0m\u001b[1;33m)\u001b[0m\u001b[1;33m)\u001b[0m\u001b[1;33m\u001b[0m\u001b[1;33m\u001b[0m\u001b[0m\n\u001b[0m",
      "\u001b[1;32m~\\anaconda3\\lib\\site-packages\\scipy\\optimize\\optimize.py\u001b[0m in \u001b[0;36mfmin_ncg\u001b[1;34m(f, x0, fprime, fhess_p, fhess, args, avextol, epsilon, maxiter, full_output, disp, retall, callback)\u001b[0m\n\u001b[0;32m   1663\u001b[0m             'return_all': retall}\n\u001b[0;32m   1664\u001b[0m \u001b[1;33m\u001b[0m\u001b[0m\n\u001b[1;32m-> 1665\u001b[1;33m     res = _minimize_newtoncg(f, x0, args, fprime, fhess, fhess_p,\n\u001b[0m\u001b[0;32m   1666\u001b[0m                              callback=callback, **opts)\n\u001b[0;32m   1667\u001b[0m \u001b[1;33m\u001b[0m\u001b[0m\n",
      "\u001b[1;32m~\\anaconda3\\lib\\site-packages\\scipy\\optimize\\optimize.py\u001b[0m in \u001b[0;36m_minimize_newtoncg\u001b[1;34m(fun, x0, args, jac, hess, hessp, callback, xtol, eps, maxiter, disp, return_all, **unknown_options)\u001b[0m\n\u001b[0;32m   1760\u001b[0m         \u001b[0mb\u001b[0m \u001b[1;33m=\u001b[0m \u001b[1;33m-\u001b[0m\u001b[0mfprime\u001b[0m\u001b[1;33m(\u001b[0m\u001b[0mxk\u001b[0m\u001b[1;33m)\u001b[0m\u001b[1;33m\u001b[0m\u001b[1;33m\u001b[0m\u001b[0m\n\u001b[0;32m   1761\u001b[0m         \u001b[0mmaggrad\u001b[0m \u001b[1;33m=\u001b[0m \u001b[0mnp\u001b[0m\u001b[1;33m.\u001b[0m\u001b[0madd\u001b[0m\u001b[1;33m.\u001b[0m\u001b[0mreduce\u001b[0m\u001b[1;33m(\u001b[0m\u001b[0mnp\u001b[0m\u001b[1;33m.\u001b[0m\u001b[0mabs\u001b[0m\u001b[1;33m(\u001b[0m\u001b[0mb\u001b[0m\u001b[1;33m)\u001b[0m\u001b[1;33m)\u001b[0m\u001b[1;33m\u001b[0m\u001b[1;33m\u001b[0m\u001b[0m\n\u001b[1;32m-> 1762\u001b[1;33m         \u001b[0meta\u001b[0m \u001b[1;33m=\u001b[0m \u001b[0mnp\u001b[0m\u001b[1;33m.\u001b[0m\u001b[0mmin\u001b[0m\u001b[1;33m(\u001b[0m\u001b[1;33m[\u001b[0m\u001b[1;36m0.5\u001b[0m\u001b[1;33m,\u001b[0m \u001b[0mnp\u001b[0m\u001b[1;33m.\u001b[0m\u001b[0msqrt\u001b[0m\u001b[1;33m(\u001b[0m\u001b[0mmaggrad\u001b[0m\u001b[1;33m)\u001b[0m\u001b[1;33m]\u001b[0m\u001b[1;33m)\u001b[0m\u001b[1;33m\u001b[0m\u001b[1;33m\u001b[0m\u001b[0m\n\u001b[0m\u001b[0;32m   1763\u001b[0m         \u001b[0mtermcond\u001b[0m \u001b[1;33m=\u001b[0m \u001b[0meta\u001b[0m \u001b[1;33m*\u001b[0m \u001b[0mmaggrad\u001b[0m\u001b[1;33m\u001b[0m\u001b[1;33m\u001b[0m\u001b[0m\n\u001b[0;32m   1764\u001b[0m         \u001b[0mxsupi\u001b[0m \u001b[1;33m=\u001b[0m \u001b[0mzeros\u001b[0m\u001b[1;33m(\u001b[0m\u001b[0mlen\u001b[0m\u001b[1;33m(\u001b[0m\u001b[0mx0\u001b[0m\u001b[1;33m)\u001b[0m\u001b[1;33m,\u001b[0m \u001b[0mdtype\u001b[0m\u001b[1;33m=\u001b[0m\u001b[0mx0\u001b[0m\u001b[1;33m.\u001b[0m\u001b[0mdtype\u001b[0m\u001b[1;33m)\u001b[0m\u001b[1;33m\u001b[0m\u001b[1;33m\u001b[0m\u001b[0m\n",
      "\u001b[1;31mTypeError\u001b[0m: loop of ufunc does not support argument 0 of type float which has no callable sqrt method"
     ]
    }
   ],
   "source": [
    "import scipy.optimize as op\n",
    "opt, cost = op.fmin_ncg(f=costFunction, x0=initial_theta, fprime=gradientFunction, args=(X, y))"
   ]
  }
 ],
 "metadata": {
  "interpreter": {
   "hash": "3ebfc241eaa27290d2441b7c6346806e6edfc0e58b07a1ca327ab8461150f6eb"
  },
  "kernelspec": {
   "display_name": "Python 3.8.8 64-bit ('base': conda)",
   "language": "python",
   "name": "python3"
  },
  "language_info": {
   "codemirror_mode": {
    "name": "ipython",
    "version": 3
   },
   "file_extension": ".py",
   "mimetype": "text/x-python",
   "name": "python",
   "nbconvert_exporter": "python",
   "pygments_lexer": "ipython3",
   "version": "3.8.8"
  },
  "orig_nbformat": 4
 },
 "nbformat": 4,
 "nbformat_minor": 2
}
